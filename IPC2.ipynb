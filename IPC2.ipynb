{
  "nbformat": 4,
  "nbformat_minor": 0,
  "metadata": {
    "colab": {
      "provenance": [],
      "authorship_tag": "ABX9TyNI95mtpJ/eLUPgBkba3m6B",
      "include_colab_link": true
    },
    "kernelspec": {
      "name": "python3",
      "display_name": "Python 3"
    },
    "language_info": {
      "name": "python"
    }
  },
  "cells": [
    {
      "cell_type": "markdown",
      "metadata": {
        "id": "view-in-github",
        "colab_type": "text"
      },
      "source": [
        "<a href=\"https://colab.research.google.com/github/Pavan6-c/-ICP-2/blob/main/IPC2.ipynb\" target=\"_parent\"><img src=\"https://colab.research.google.com/assets/colab-badge.svg\" alt=\"Open In Colab\"/></a>"
      ]
    },
    {
      "cell_type": "markdown",
      "source": [
        " #Consider the following Python code:"
      ],
      "metadata": {
        "id": "QiHEHawKeiuZ"
      }
    },
    {
      "cell_type": "code",
      "execution_count": 16,
      "metadata": {
        "colab": {
          "base_uri": "https://localhost:8080/"
        },
        "id": "3_C_Ka5eWywd",
        "outputId": "22a0503c-504e-4bc6-c29a-edf1817e577d"
      },
      "outputs": [
        {
          "output_type": "stream",
          "name": "stdout",
          "text": [
            "Instance count: 2, Class count: 3\n",
            "Instance count: 1, Class count: 3\n"
          ]
        }
      ],
      "source": [
        "class Counter:\n",
        "    count = 0\n",
        "\n",
        "    def __init__(self):\n",
        "        self._count = 0\n",
        "\n",
        "    def increment(self):\n",
        "        self._count += 1\n",
        "        Counter.count += 1\n",
        "\n",
        "    def get_counts(self):\n",
        "        return f\"Instance count: {self._count}, Class count: {Counter.count}\"\n",
        "\n",
        "a = Counter()\n",
        "b = Counter()\n",
        "\n",
        "a.increment()\n",
        "a.increment()\n",
        "b.increment()\n",
        "\n",
        "print(a.get_counts())\n",
        "print(b.get_counts())\n"
      ]
    },
    {
      "cell_type": "markdown",
      "source": [
        "Explain the difference between Counter.count and self._count?\n",
        "\n",
        "Counter.count is shared by all instances, while self._count is unique to each instance.\n",
        "\n"
      ],
      "metadata": {
        "id": "OOced2VuXMCr"
      }
    },
    {
      "cell_type": "markdown",
      "source": [
        "What is the output of a.get_counts() and b.get_counts()?\n",
        "\n",
        "Instance count: 2, Class count: 3\n",
        "\n",
        "Instance count: 1, Class count: 3\n",
        "\n"
      ],
      "metadata": {
        "id": "pdt7m8oXZSzJ"
      }
    },
    {
      "cell_type": "markdown",
      "source": [
        "How does the increment method affect both the class and instance variables?\n",
        "\n",
        "The `increment()` method increases both the instance's own `_count` and the shared class-level `count`.\n"
      ],
      "metadata": {
        "id": "hgd90NbQZzL-"
      }
    },
    {
      "cell_type": "markdown",
      "source": [
        "2. Find and remove the bug from the code to obtain the given output."
      ],
      "metadata": {
        "id": "1mO78oYgamuw"
      }
    },
    {
      "cell_type": "code",
      "source": [
        "def sum_all(*args):  # Use *args to accept variable number of arguments\n",
        "    return sum(args)\n",
        "\n",
        "print(\"Sum of 1, 2, 3 is:\", sum_all(1, 2, 3))\n",
        "print(\"Sum of 4, 5, 6, 7 is:\", sum_all(4, 5, 6, 7))\n"
      ],
      "metadata": {
        "colab": {
          "base_uri": "https://localhost:8080/"
        },
        "id": "dStZ5MUNaoXt",
        "outputId": "d1a4b9c2-32f8-485b-babd-801b9f8c2a44"
      },
      "execution_count": 17,
      "outputs": [
        {
          "output_type": "stream",
          "name": "stdout",
          "text": [
            "Sum of 1, 2, 3 is: 6\n",
            "Sum of 4, 5, 6, 7 is: 22\n"
          ]
        }
      ]
    },
    {
      "cell_type": "markdown",
      "source": [
        "By using args (without *) it treats all inputs as one argument, whereas by using *args it lets you pass to multiple arguments, which are collected as a tuple."
      ],
      "metadata": {
        "id": "-uXgSQuAbDD-"
      }
    },
    {
      "cell_type": "markdown",
      "source": [
        "3. Write a function called first_word that takes a list of character strings as input and returns the first\n",
        "element of the list in alphabetical order. For example, your function should work like this:\n",
        "\n",
        "students = ['Mary', 'Zelda', 'Jimmy', 'Jack', 'Bartholomew', 'Gertrude'] (Input)\n",
        "\n",
        "first_word(students) (Function)\n",
        "\n",
        "'Bartholomew' (Output)\n"
      ],
      "metadata": {
        "id": "yCYfzvJlcDLH"
      }
    },
    {
      "cell_type": "code",
      "source": [
        "def first_word(words):\n",
        "# Step 1: Sort the list using sorted(words) to get all names in alphabetical order.\n",
        "    sorted_words = sorted(words)\n",
        "\n",
        "# Step 2: Select the first element from the sorted list using sorted_words[0].\n",
        "    return sorted_words[0]\n"
      ],
      "metadata": {
        "id": "GwGdwEuLcOwB"
      },
      "execution_count": 18,
      "outputs": []
    },
    {
      "cell_type": "code",
      "source": [
        "students = ['Mary', 'Zelda', 'Jimmy', 'Jack', 'Bartholomew', 'Gertrude']\n",
        "print(first_word(students))\n"
      ],
      "metadata": {
        "colab": {
          "base_uri": "https://localhost:8080/"
        },
        "id": "_z7t5TUtcX8O",
        "outputId": "a6b06ad4-922f-45f8-b8dd-7de3612bec02"
      },
      "execution_count": 19,
      "outputs": [
        {
          "output_type": "stream",
          "name": "stdout",
          "text": [
            "Bartholomew\n"
          ]
        }
      ]
    },
    {
      "cell_type": "markdown",
      "source": [
        "4. Create a class Employee and then do the following\n",
        "• Create a data member to count the number of Employees\n",
        "• Create a constructor to initialize name, family, salary, department\n",
        "• Create a function to average salary\n",
        "• Create a Fulltime Employee class and it should inherit the properties of Employee class\n",
        "• Create the instances of Fulltime Employee class and Employee class and call their member functions."
      ],
      "metadata": {
        "id": "k-LRk-uHdc-v"
      }
    },
    {
      "cell_type": "code",
      "source": [
        "class Employee:\n",
        "    # Class variable to count the number of Employees\n",
        "    employee_count = 0\n",
        "    total_salary = 0\n",
        "\n",
        "    # Constructor to initialize name, family, salary, department\n",
        "    def __init__(self, name, family, salary, department):\n",
        "        self.name = name\n",
        "        self.family = family\n",
        "        self.salary = salary\n",
        "        self.department = department\n",
        "\n",
        "        # Update employee count and total salary\n",
        "        Employee.employee_count += 1\n",
        "        Employee.total_salary += salary\n",
        "\n",
        "    # Class method to calculate average salary\n",
        "    @classmethod\n",
        "    def average_salary(cls):\n",
        "        if cls.employee_count == 0:\n",
        "            return 0\n",
        "        return cls.total_salary / cls.employee_count\n",
        "\n",
        "\n",
        "# FulltimeEmployee inherits from Employee\n",
        "class FulltimeEmployee(Employee):\n",
        "    pass\n",
        "\n",
        "\n",
        "# Create instances\n",
        "e1 = Employee(\"Suresh\", \"Ramesh\", 50000, \"HR\")\n",
        "e2 = FulltimeEmployee(\"Mark\", \"Johnson\", 70000, \"Engineering\")\n",
        "e3 = FulltimeEmployee(\"Sam\", \"Brown\", 60000, \"Marketing\")\n",
        "\n",
        "# Call member functions\n",
        "print(\"Total Employees:\", Employee.employee_count)\n",
        "print(\"Average Salary:\", Employee.average_salary())\n",
        "\n",
        "# Display individual employee data\n",
        "print(f\"{e1.name} - Department: {e1.department}, Salary: {e1.salary}\")\n",
        "print(f\"{e2.name} - Department: {e2.department}, Salary: {e2.salary}\")\n",
        "print(f\"{e3.name} - Department: {e3.department}, Salary: {e3.salary}\")\n"
      ],
      "metadata": {
        "colab": {
          "base_uri": "https://localhost:8080/"
        },
        "id": "Vgm3uaX5dg3M",
        "outputId": "9e4353b3-f553-4934-82bd-a0790b7a1be3"
      },
      "execution_count": 15,
      "outputs": [
        {
          "output_type": "stream",
          "name": "stdout",
          "text": [
            "Total Employees: 3\n",
            "Average Salary: 60000.0\n",
            "Suresh - Department: HR, Salary: 50000\n",
            "Mark - Department: Engineering, Salary: 70000\n",
            "Sam - Department: Marketing, Salary: 60000\n"
          ]
        }
      ]
    }
  ]
}